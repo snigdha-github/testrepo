{
 "cells": [
  {
   "cell_type": "markdown",
   "id": "8fbc92f8",
   "metadata": {},
   "source": [
    "# Data Science Tools and Ecosystem"
   ]
  },
  {
   "cell_type": "markdown",
   "id": "1f20beeb",
   "metadata": {},
   "source": [
    "In this notebook, Data Science Tools and Ecosystem are summarized."
   ]
  },
  {
   "cell_type": "markdown",
   "id": "f939e944",
   "metadata": {},
   "source": [
    "**Objectives:**\n",
    " - List popular languages used in Data Science\n",
    " - List popular libraries used in Data Science\n",
    " - List commonly used development environment open source tools in Data Science\n",
    " - Evaluate Arithmetic Expression in Python\n",
    " - Use of Markdown Tools in Python"
   ]
  },
  {
   "cell_type": "markdown",
   "id": "9ede8a52",
   "metadata": {},
   "source": [
    "Some of the popular languages that Data Scientists use are:\n",
    "1. Python\n",
    "2. R\n",
    "3. Julia\n",
    "4. SQL"
   ]
  },
  {
   "cell_type": "markdown",
   "id": "a4db2fda",
   "metadata": {},
   "source": [
    "Some of the commonly used libraries used by Data Scientists include:\n",
    "1. Pandas\n",
    "2. NumPy\n",
    "3. SciPy\n",
    "4. Keras\n",
    "5. Matplotlib"
   ]
  },
  {
   "attachments": {},
   "cell_type": "markdown",
   "id": "2ec0c23f",
   "metadata": {},
   "source": [
    "| Data Science Tools       |\n",
    "| ------------- |\n",
    "| Jupyter Notebook     |\n",
    "| Apache Spark     |\n",
    "| RStudio |"
   ]
  },
  {
   "cell_type": "markdown",
   "id": "3a2f76d4",
   "metadata": {},
   "source": [
    "### Below are a few examples of evaluating arithmetic expressions in Python"
   ]
  },
  {
   "cell_type": "code",
   "execution_count": 1,
   "id": "6a8e1bf7",
   "metadata": {},
   "outputs": [
    {
     "data": {
      "text/plain": [
       "17"
      ]
     },
     "execution_count": 1,
     "metadata": {},
     "output_type": "execute_result"
    }
   ],
   "source": [
    "# This a simple arithmetic expression to mutiply then add integers\n",
    "(3*4)+5"
   ]
  },
  {
   "cell_type": "code",
   "execution_count": 2,
   "id": "d24c53c5",
   "metadata": {},
   "outputs": [
    {
     "data": {
      "text/plain": [
       "3"
      ]
     },
     "execution_count": 2,
     "metadata": {},
     "output_type": "execute_result"
    }
   ],
   "source": [
    "# This will convert 200 minutes to hours by diving by 60\n",
    "200 // 60"
   ]
  },
  {
   "cell_type": "markdown",
   "id": "e05c32ab",
   "metadata": {},
   "source": [
    "## Author\n",
    "Snigdha Ghosh"
   ]
  },
  {
   "cell_type": "code",
   "execution_count": null,
   "id": "0a0c9a78",
   "metadata": {},
   "outputs": [],
   "source": []
  }
 ],
 "metadata": {
  "kernelspec": {
   "display_name": "Python 3 (ipykernel)",
   "language": "python",
   "name": "python3"
  },
  "language_info": {
   "codemirror_mode": {
    "name": "ipython",
    "version": 3
   },
   "file_extension": ".py",
   "mimetype": "text/x-python",
   "name": "python",
   "nbconvert_exporter": "python",
   "pygments_lexer": "ipython3",
   "version": "3.9.7"
  }
 },
 "nbformat": 4,
 "nbformat_minor": 5
}
